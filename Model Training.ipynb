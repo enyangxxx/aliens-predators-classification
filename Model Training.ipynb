{
 "cells": [
  {
   "cell_type": "markdown",
   "metadata": {},
   "source": [
    "### Model Training for binary classification of aliens vs. predators\n",
    "\n",
    "The CNN model, that will be trained, receives images in shape of (64,63,3) as input. By applying the Keras library, I was able to use the ImageDataGenerator class and create objects of it for training and validation data, because the folder structure of these given data is suitable for the ImageDataGenerator usage."
   ]
  },
  {
   "cell_type": "code",
   "execution_count": 1,
   "metadata": {},
   "outputs": [
    {
     "name": "stderr",
     "output_type": "stream",
     "text": [
      "Using TensorFlow backend.\n"
     ]
    }
   ],
   "source": [
    "import glob\n",
    "import cv2\n",
    "import matplotlib.pyplot as plt\n",
    "import numpy as np\n",
    "from PIL import Image\n",
    "\n",
    "from tensorflow.keras.optimizers import Adam\n",
    "import tensorflow as tf\n",
    "from tensorflow.keras.models import Sequential\n",
    "from tensorflow.keras.layers import Dense, Dropout, Activation, Flatten\n",
    "from tensorflow.keras.layers import Conv2D, MaxPooling2D\n",
    "from keras.preprocessing.image import ImageDataGenerator\n",
    "from keras import regularizers"
   ]
  },
  {
   "cell_type": "code",
   "execution_count": 2,
   "metadata": {},
   "outputs": [],
   "source": [
    "maxsize = (64,64)"
   ]
  },
  {
   "cell_type": "markdown",
   "metadata": {},
   "source": [
    "The ImageDataGenerator object for training data includes pixel value standardization. It generate batches of tensor image data with real-time data augmentation, inter alia by the horizontal flip. Shearing can be powerful to deal with different orientations, thus a maximum range of shearing is defined. A maximum zoom range is declared too, which completes the applied techniques of data augmentation for the training set. For the validation data, pixel value standardization has to be applied too, because the pixel values must be within the same range compared to the training data, which the model will be used too.\n",
    "\n",
    "There are overall 694 images belonging to both classes (aliens and predators), data augmentation will increase the amount of data for training set for the model training. 200 images are found in the validation set."
   ]
  },
  {
   "cell_type": "code",
   "execution_count": 3,
   "metadata": {},
   "outputs": [],
   "source": [
    "train_datagen = ImageDataGenerator(\n",
    "                rescale=1./255,\n",
    "                shear_range=0.2,\n",
    "                zoom_range=0.1,\n",
    "                horizontal_flip=True)\n",
    "\n",
    "validation_datagen = ImageDataGenerator(rescale=1./255)"
   ]
  },
  {
   "cell_type": "code",
   "execution_count": 4,
   "metadata": {},
   "outputs": [
    {
     "name": "stdout",
     "output_type": "stream",
     "text": [
      "Found 694 images belonging to 2 classes.\n"
     ]
    }
   ],
   "source": [
    "training_set = train_datagen.flow_from_directory(\n",
    "                            'dataset/train', \n",
    "                            target_size=maxsize,\n",
    "                            batch_size=128, \n",
    "                            class_mode='binary')"
   ]
  },
  {
   "cell_type": "code",
   "execution_count": 5,
   "metadata": {},
   "outputs": [
    {
     "name": "stdout",
     "output_type": "stream",
     "text": [
      "Found 200 images belonging to 2 classes.\n"
     ]
    }
   ],
   "source": [
    "validation_set = validation_datagen.flow_from_directory(\n",
    "                                    'dataset/validation',\n",
    "                                    target_size=maxsize,\n",
    "                                    batch_size=128,\n",
    "                                    class_mode='binary')"
   ]
  },
  {
   "cell_type": "markdown",
   "metadata": {},
   "source": [
    "A Sequential object is created. The model architecture is displayed below. During the hyperparameter tuning and experiments of different architectures, I figured out that a shallow network with 1 Conv2D layer often reaches its limit of accuracy after 15, 20 epochs. A deeper network with multiple Conv2D layers manages to reach a training accuracy of almost 98%, but overfitting occurs very often. That is the reason why I added multiple dropout layers after each Max-Pooling layer and Flatten layer, especially with a relatively huge dropout rate (0.4). \n",
    "\n",
    "Another aspect that I would like to mention: When I added the Dropout layer between the Conv2D and Max-Pooling layer, the model performance will be heavily affected, as the accuracy will stick around 50%. "
   ]
  },
  {
   "cell_type": "code",
   "execution_count": 6,
   "metadata": {},
   "outputs": [],
   "source": [
    "model = Sequential()\n",
    "model.add(Conv2D(filters=32, \n",
    "                 kernel_size=(3,3), \n",
    "                 input_shape=(64,64,3),\n",
    "                 activation='relu',\n",
    "                 data_format='channels_last'))\n",
    "model.add(MaxPooling2D(2, 2))\n",
    "model.add(Conv2D(32, (3,3), activation='relu'))\n",
    "model.add(Dropout(0.4))\n",
    "model.add(MaxPooling2D(2, 2))\n",
    "model.add(Conv2D(32, (3,3), activation='relu'))\n",
    "model.add(Dropout(0.4))\n",
    "model.add(MaxPooling2D(2, 2))\n",
    "model.add(Dropout(0.4))\n",
    "model.add(Flatten())\n",
    "model.add(Dropout(0.4))\n",
    "model.add(Dense(2, activation='relu'))\n",
    "model.add(Dense(1, activation='sigmoid'))"
   ]
  },
  {
   "cell_type": "code",
   "execution_count": 7,
   "metadata": {},
   "outputs": [
    {
     "name": "stdout",
     "output_type": "stream",
     "text": [
      "Model: \"sequential\"\n",
      "_________________________________________________________________\n",
      "Layer (type)                 Output Shape              Param #   \n",
      "=================================================================\n",
      "conv2d (Conv2D)              (None, 62, 62, 32)        896       \n",
      "_________________________________________________________________\n",
      "max_pooling2d (MaxPooling2D) (None, 31, 31, 32)        0         \n",
      "_________________________________________________________________\n",
      "conv2d_1 (Conv2D)            (None, 29, 29, 32)        9248      \n",
      "_________________________________________________________________\n",
      "dropout (Dropout)            (None, 29, 29, 32)        0         \n",
      "_________________________________________________________________\n",
      "max_pooling2d_1 (MaxPooling2 (None, 14, 14, 32)        0         \n",
      "_________________________________________________________________\n",
      "conv2d_2 (Conv2D)            (None, 12, 12, 32)        9248      \n",
      "_________________________________________________________________\n",
      "dropout_1 (Dropout)          (None, 12, 12, 32)        0         \n",
      "_________________________________________________________________\n",
      "max_pooling2d_2 (MaxPooling2 (None, 6, 6, 32)          0         \n",
      "_________________________________________________________________\n",
      "dropout_2 (Dropout)          (None, 6, 6, 32)          0         \n",
      "_________________________________________________________________\n",
      "flatten (Flatten)            (None, 1152)              0         \n",
      "_________________________________________________________________\n",
      "dropout_3 (Dropout)          (None, 1152)              0         \n",
      "_________________________________________________________________\n",
      "dense (Dense)                (None, 2)                 2306      \n",
      "_________________________________________________________________\n",
      "dense_1 (Dense)              (None, 1)                 3         \n",
      "=================================================================\n",
      "Total params: 21,701\n",
      "Trainable params: 21,701\n",
      "Non-trainable params: 0\n",
      "_________________________________________________________________\n"
     ]
    }
   ],
   "source": [
    "model.summary()"
   ]
  },
  {
   "cell_type": "code",
   "execution_count": 8,
   "metadata": {},
   "outputs": [],
   "source": [
    "model.compile(loss='binary_crossentropy',\n",
    "              optimizer=Adam(learning_rate=0.001),\n",
    "              metrics=['acc'])"
   ]
  },
  {
   "cell_type": "markdown",
   "metadata": {},
   "source": [
    "I added an early-stopping callback, which is based on the validation accuracy. I noticed that the validation accuracy often reaches 79%-82% and then stops to increase. So I want to stop the training once a validation accuracy of 86% is reached, which is the highest value that I have observed during many model trainings."
   ]
  },
  {
   "cell_type": "code",
   "execution_count": 9,
   "metadata": {},
   "outputs": [],
   "source": [
    "class earlyStoppingCallback(tf.keras.callbacks.Callback):\n",
    "    def on_epoch_end(self, epoch, logs={}):\n",
    "        if(logs.get('val_acc')>0.86):\n",
    "            print(\"\\nSUCCESS: Reached 86% validation accuracy, I will stop the training earlier!\")\n",
    "            self.model.stop_training = True\n",
    "earlyStopping = earlyStoppingCallback()"
   ]
  },
  {
   "cell_type": "code",
   "execution_count": 10,
   "metadata": {},
   "outputs": [
    {
     "name": "stdout",
     "output_type": "stream",
     "text": [
      "Epoch 1/20\n",
      "100/100 [==============================] - 92s 924ms/step - loss: 0.6404 - acc: 0.6018 - val_loss: 0.6174 - val_acc: 0.5750\n",
      "Epoch 2/20\n",
      "100/100 [==============================] - 86s 859ms/step - loss: 0.5300 - acc: 0.7416 - val_loss: 0.5639 - val_acc: 0.7050\n",
      "Epoch 3/20\n",
      "100/100 [==============================] - 89s 889ms/step - loss: 0.4601 - acc: 0.7824 - val_loss: 0.5043 - val_acc: 0.7450\n",
      "Epoch 4/20\n",
      "100/100 [==============================] - 91s 905ms/step - loss: 0.4044 - acc: 0.8158 - val_loss: 0.4700 - val_acc: 0.7750\n",
      "Epoch 5/20\n",
      "100/100 [==============================] - 95s 946ms/step - loss: 0.3668 - acc: 0.8360 - val_loss: 0.4512 - val_acc: 0.8050\n",
      "Epoch 6/20\n",
      "100/100 [==============================] - 98s 982ms/step - loss: 0.3408 - acc: 0.8487 - val_loss: 0.4835 - val_acc: 0.7650\n",
      "Epoch 7/20\n",
      "100/100 [==============================] - 93s 928ms/step - loss: 0.3064 - acc: 0.8623 - val_loss: 0.4902 - val_acc: 0.7600\n",
      "Epoch 8/20\n",
      "100/100 [==============================] - 105s 1s/step - loss: 0.2931 - acc: 0.8707 - val_loss: 0.4715 - val_acc: 0.7900\n",
      "Epoch 9/20\n",
      "100/100 [==============================] - 89s 893ms/step - loss: 0.2675 - acc: 0.8855 - val_loss: 0.4137 - val_acc: 0.8200\n",
      "Epoch 10/20\n",
      "100/100 [==============================] - 93s 928ms/step - loss: 0.2428 - acc: 0.8970 - val_loss: 0.4027 - val_acc: 0.8450\n",
      "Epoch 11/20\n",
      " 99/100 [============================>.] - ETA: 0s - loss: 0.2308 - acc: 0.9058\n",
      "SUCCESS: Reached 86% validation accuracy, I will stop the training earlier!\n",
      "100/100 [==============================] - 90s 903ms/step - loss: 0.2309 - acc: 0.9057 - val_loss: 0.4089 - val_acc: 0.8600\n"
     ]
    },
    {
     "data": {
      "text/plain": [
       "<tensorflow.python.keras.callbacks.History at 0x13b6476d0>"
      ]
     },
     "execution_count": 10,
     "metadata": {},
     "output_type": "execute_result"
    }
   ],
   "source": [
    "model.fit_generator(\n",
    "        training_set,\n",
    "        steps_per_epoch=100,\n",
    "        epochs=20,\n",
    "        callbacks = [earlyStopping],\n",
    "        validation_data=validation_set,\n",
    "        validation_steps=100)"
   ]
  },
  {
   "cell_type": "code",
   "execution_count": 11,
   "metadata": {},
   "outputs": [],
   "source": [
    "model.save('model-91-86.h5')"
   ]
  }
 ],
 "metadata": {
  "kernelspec": {
   "display_name": "Python 3",
   "language": "python",
   "name": "python3"
  },
  "language_info": {
   "codemirror_mode": {
    "name": "ipython",
    "version": 3
   },
   "file_extension": ".py",
   "mimetype": "text/x-python",
   "name": "python",
   "nbconvert_exporter": "python",
   "pygments_lexer": "ipython3",
   "version": "3.7.4"
  }
 },
 "nbformat": 4,
 "nbformat_minor": 2
}
